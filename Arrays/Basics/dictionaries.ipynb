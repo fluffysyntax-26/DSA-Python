{
 "cells": [
  {
   "cell_type": "code",
   "execution_count": 4,
   "id": "cd39b06b",
   "metadata": {},
   "outputs": [
    {
     "name": "stdout",
     "output_type": "stream",
     "text": [
      "{'Bengaluru': 25, 'Mumbai': 30, 'Delhi': 32, 'Chennai': 28, 'Kolkata': 31}\n"
     ]
    },
    {
     "data": {
      "text/plain": [
       "{'Mumbai': 30, 'Delhi': 32, 'Chennai': 28, 'Kolkata': 31}"
      ]
     },
     "execution_count": 4,
     "metadata": {},
     "output_type": "execute_result"
    }
   ],
   "source": [
    "cities = [\"Bengaluru\", \"Mumbai\", \"Delhi\", \"Chennai\", \"Kolkata\"]\n",
    "temperatures_celsius = [25, 30, 32, 28, 31]\n",
    "\n",
    "weather = {city:temp for city, temp in zip(cities, temperatures_celsius)}\n",
    "print(weather)\n",
    "\n",
    "new_weather = {city:temp for city, temp in weather.items() if temp > 25}\n",
    "new_weather\n",
    "\n"
   ]
  }
 ],
 "metadata": {
  "kernelspec": {
   "display_name": "base",
   "language": "python",
   "name": "python3"
  },
  "language_info": {
   "codemirror_mode": {
    "name": "ipython",
    "version": 3
   },
   "file_extension": ".py",
   "mimetype": "text/x-python",
   "name": "python",
   "nbconvert_exporter": "python",
   "pygments_lexer": "ipython3",
   "version": "3.13.5"
  }
 },
 "nbformat": 4,
 "nbformat_minor": 5
}
