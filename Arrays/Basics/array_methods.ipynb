{
 "cells": [
  {
   "cell_type": "code",
   "execution_count": 1,
   "id": "f7d968e9",
   "metadata": {},
   "outputs": [],
   "source": [
    "from array import *\n",
    "import random"
   ]
  },
  {
   "cell_type": "code",
   "execution_count": 2,
   "id": "9346eb08",
   "metadata": {},
   "outputs": [
    {
     "name": "stdout",
     "output_type": "stream",
     "text": [
      "[91, 24, 13, 45, 41, 38, 27, 23, 96, 79, 21, 85, 64, 14, 13, 21, 37, 39, 74, 87, 13, 81, 35, 93, 99]\n"
     ]
    }
   ],
   "source": [
    "random.seed(42)\n",
    "lst = [random.randint(10, 100) for _ in range(25)]\n",
    "print(lst)"
   ]
  },
  {
   "cell_type": "code",
   "execution_count": 3,
   "id": "5cc85d5f",
   "metadata": {},
   "outputs": [
    {
     "name": "stdout",
     "output_type": "stream",
     "text": [
      "91 24 13 45 41 38 27 23 96 79 21 85 64 14 13 21 37 39 74 87 13 81 35 93 99 "
     ]
    }
   ],
   "source": [
    "# 1. Create an array and traverse it\n",
    "\n",
    "sample_array = array('i', lst)\n",
    "\n",
    "def traverse(array):\n",
    "    for idx, ele in enumerate(array): \n",
    "        print(ele, end=\" \")\n",
    "\n",
    "traverse(sample_array)"
   ]
  },
  {
   "cell_type": "code",
   "execution_count": 4,
   "id": "22fb51d1",
   "metadata": {},
   "outputs": [
    {
     "name": "stdout",
     "output_type": "stream",
     "text": [
      "91 24 13 45 41 38 27 23 96 79 21 85 64 14 13 21 37 39 74 87 13 81 35 93 99 50 "
     ]
    }
   ],
   "source": [
    "# 2. Add an element to the end of an array using the append() method\n",
    "\n",
    "sample_array.append(50)\n",
    "\n",
    "traverse(sample_array)"
   ]
  },
  {
   "cell_type": "code",
   "execution_count": 5,
   "id": "f9db70bb",
   "metadata": {},
   "outputs": [
    {
     "name": "stdout",
     "output_type": "stream",
     "text": [
      "91 24 13 45 41 38 27 23 96 79 21 85 100 64 14 13 21 37 39 74 87 13 81 35 93 99 50 \n",
      " 100\n"
     ]
    }
   ],
   "source": [
    "# 3. Insert an element anywhere in the middle\n",
    "\n",
    "sample_array.insert(12, 100)\n",
    "traverse(sample_array)\n",
    "\n",
    "print(\"\\n\", sample_array[12])"
   ]
  },
  {
   "cell_type": "code",
   "execution_count": 6,
   "id": "d5fcd704",
   "metadata": {},
   "outputs": [
    {
     "name": "stdout",
     "output_type": "stream",
     "text": [
      "91 24 13 45 41 38 27 23 96 79 21 85 100 64 14 13 21 37 39 74 87 13 81 35 93 99 50 1 2 3 "
     ]
    }
   ],
   "source": [
    "# 4. Add elements using the extend()\n",
    "\n",
    "sample_array.extend([1,2,3])\n",
    "traverse(sample_array)"
   ]
  },
  {
   "cell_type": "code",
   "execution_count": 7,
   "id": "740657b3",
   "metadata": {},
   "outputs": [
    {
     "name": "stdout",
     "output_type": "stream",
     "text": [
      "91 24 13 45 41 38 27 23 96 79 21 85 100 64 14 13 21 37 39 74 87 13 81 35 93 99 50 1 2 3 18 19 20 "
     ]
    }
   ],
   "source": [
    "# 5. Add the elements of a list using the fromlist() method\n",
    "\n",
    "sample_lst = [18, 19, 20]\n",
    "sample_array.fromlist(sample_lst)\n",
    "\n",
    "traverse(sample_array)"
   ]
  },
  {
   "cell_type": "code",
   "execution_count": 8,
   "id": "f4866f4c",
   "metadata": {},
   "outputs": [
    {
     "name": "stdout",
     "output_type": "stream",
     "text": [
      "91 24 13 45 41 38 27 23 96 79 21 85 64 14 13 21 37 39 74 87 13 81 35 93 99 50 1 2 3 18 19 20 "
     ]
    }
   ],
   "source": [
    "# 6. Remove elements using the remove() function\n",
    "\n",
    "sample_array.remove(100) # removes the first occurence of 100\n",
    "\n",
    "traverse(sample_array)"
   ]
  },
  {
   "cell_type": "code",
   "execution_count": 9,
   "id": "e6f3ef5c",
   "metadata": {},
   "outputs": [
    {
     "name": "stdout",
     "output_type": "stream",
     "text": [
      "91 24 13 45 41 38 27 23 96 79 21 85 64 14 13 21 37 39 74 87 13 81 35 93 99 50 1 2 3 18 19 "
     ]
    }
   ],
   "source": [
    "# 7. Remove last element using the pop() method\n",
    "\n",
    "sample_array.pop()\n",
    "\n",
    "traverse(sample_array)"
   ]
  },
  {
   "cell_type": "code",
   "execution_count": null,
   "id": "2acfba91",
   "metadata": {},
   "outputs": [
    {
     "name": "stdout",
     "output_type": "stream",
     "text": [
      "19 18 3 2 1 50 99 93 35 81 13 87 74 39 37 21 13 14 64 85 21 79 96 23 27 38 41 45 13 24 91 "
     ]
    }
   ],
   "source": [
    "# 8. Reverse an array using the reverse() method\n",
    "\n",
    "sample_array.reverse()\n",
    "\n",
    "traverse(sample_array)"
   ]
  },
  {
   "cell_type": "code",
   "execution_count": 16,
   "id": "30264216",
   "metadata": {},
   "outputs": [
    {
     "name": "stdout",
     "output_type": "stream",
     "text": [
      "9667440\n"
     ]
    },
    {
     "data": {
      "text/plain": [
       "(133784070419584, 31)"
      ]
     },
     "execution_count": 16,
     "metadata": {},
     "output_type": "execute_result"
    }
   ],
   "source": [
    "# 9. Get array buffer information using the buffer_info() method\n",
    "\n",
    "''' \n",
    "buffer_info() gives you the address of the raw memory block for the whole array,\n",
    "while id(sample_array[0]) gives you the address of a separate, temporary Python \n",
    "object created for just the first element.\n",
    "'''\n",
    "print(id(sample_array[0]))\n",
    "sample_array.buffer_info()"
   ]
  },
  {
   "cell_type": "code",
   "execution_count": 17,
   "id": "09e2a334",
   "metadata": {},
   "outputs": [
    {
     "data": {
      "text/plain": [
       "3"
      ]
     },
     "execution_count": 17,
     "metadata": {},
     "output_type": "execute_result"
    }
   ],
   "source": [
    "# 10. Count the occurences of element using the count() method\n",
    "\n",
    "sample_array.count(13)"
   ]
  },
  {
   "cell_type": "code",
   "execution_count": 21,
   "id": "7fdba144",
   "metadata": {},
   "outputs": [
    {
     "name": "stdout",
     "output_type": "stream",
     "text": [
      "<class 'array.array'>\n",
      "<class 'list'>\n"
     ]
    }
   ],
   "source": [
    "# 11. convert array into list using the tolist() method\n",
    "\n",
    "print(type(sample_array))\n",
    "\n",
    "list_array = sample_array.tolist()\n",
    "\n",
    "print(type(list_array))"
   ]
  },
  {
   "cell_type": "code",
   "execution_count": 22,
   "id": "d21796a3",
   "metadata": {},
   "outputs": [
    {
     "name": "stdout",
     "output_type": "stream",
     "text": [
      "array('i', [74, 39, 37, 21, 13, 14, 64, 85, 21, 79, 96, 23, 27])\n"
     ]
    }
   ],
   "source": [
    "# 12. you can slice arrays just like list\n",
    "\n",
    "print(sample_array[12:25])"
   ]
  }
 ],
 "metadata": {
  "kernelspec": {
   "display_name": "base",
   "language": "python",
   "name": "python3"
  },
  "language_info": {
   "codemirror_mode": {
    "name": "ipython",
    "version": 3
   },
   "file_extension": ".py",
   "mimetype": "text/x-python",
   "name": "python",
   "nbconvert_exporter": "python",
   "pygments_lexer": "ipython3",
   "version": "3.13.5"
  }
 },
 "nbformat": 4,
 "nbformat_minor": 5
}
