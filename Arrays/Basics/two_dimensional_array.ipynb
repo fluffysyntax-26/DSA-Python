{
 "cells": [
  {
   "cell_type": "code",
   "execution_count": 1,
   "id": "35e3c354",
   "metadata": {},
   "outputs": [],
   "source": [
    "import numpy as np\n",
    "import random"
   ]
  },
  {
   "cell_type": "code",
   "execution_count": 18,
   "id": "b7bba9f7",
   "metadata": {},
   "outputs": [
    {
     "name": "stdout",
     "output_type": "stream",
     "text": [
      "[91, 24, 13, 45, 41] [38, 27, 23, 96, 79] [21, 85, 64, 14, 13]\n"
     ]
    }
   ],
   "source": [
    "random.seed(42)\n",
    "\n",
    "lst1 = [random.randint(10, 100) for _ in range(5)]\n",
    "lst2 = [random.randint(10, 100) for _ in range(5)]\n",
    "lst3 = [random.randint(10, 100) for _ in range(5)]\n",
    "\n",
    "print(lst1, lst2, lst3)"
   ]
  },
  {
   "cell_type": "code",
   "execution_count": 20,
   "id": "1b9cf5b5",
   "metadata": {},
   "outputs": [
    {
     "data": {
      "text/plain": [
       "array([[91, 24, 13, 45, 41],\n",
       "       [38, 27, 23, 96, 79],\n",
       "       [21, 85, 64, 14, 13]])"
      ]
     },
     "execution_count": 20,
     "metadata": {},
     "output_type": "execute_result"
    }
   ],
   "source": [
    "twodarray = np.array([lst1, lst2, lst3], dtype = int)\n",
    "\n",
    "twodarray"
   ]
  }
 ],
 "metadata": {
  "kernelspec": {
   "display_name": "base",
   "language": "python",
   "name": "python3"
  },
  "language_info": {
   "codemirror_mode": {
    "name": "ipython",
    "version": 3
   },
   "file_extension": ".py",
   "mimetype": "text/x-python",
   "name": "python",
   "nbconvert_exporter": "python",
   "pygments_lexer": "ipython3",
   "version": "3.13.5"
  }
 },
 "nbformat": 4,
 "nbformat_minor": 5
}
