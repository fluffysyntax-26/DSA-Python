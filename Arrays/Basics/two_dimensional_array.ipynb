{
 "cells": [
  {
   "cell_type": "code",
   "execution_count": 1,
   "id": "35e3c354",
   "metadata": {},
   "outputs": [],
   "source": [
    "import numpy as np\n",
    "import random"
   ]
  },
  {
   "cell_type": "code",
   "execution_count": 2,
   "id": "b7bba9f7",
   "metadata": {},
   "outputs": [
    {
     "name": "stdout",
     "output_type": "stream",
     "text": [
      "[91, 24, 13, 45, 41] [38, 27, 23, 96, 79] [21, 85, 64, 14, 13]\n"
     ]
    }
   ],
   "source": [
    "random.seed(42)\n",
    "\n",
    "lst1 = [random.randint(10, 100) for _ in range(5)]\n",
    "lst2 = [random.randint(10, 100) for _ in range(5)]\n",
    "lst3 = [random.randint(10, 100) for _ in range(5)]\n",
    "lst4 = [random.randint(10, 100) for _ in range(5)]\n",
    "lst5 = [random.randint(10, 100) for _ in range(5)]\n",
    "\n",
    "print(lst1, lst2, lst3)"
   ]
  },
  {
   "cell_type": "code",
   "execution_count": 3,
   "id": "1b9cf5b5",
   "metadata": {},
   "outputs": [
    {
     "data": {
      "text/plain": [
       "array([[91, 24, 13, 45, 41],\n",
       "       [38, 27, 23, 96, 79],\n",
       "       [21, 85, 64, 14, 13],\n",
       "       [21, 37, 39, 74, 87],\n",
       "       [13, 81, 35, 93, 99]])"
      ]
     },
     "execution_count": 3,
     "metadata": {},
     "output_type": "execute_result"
    }
   ],
   "source": [
    "twodarray = np.array([lst1, lst2, lst3, lst4, lst5], dtype = int)\n",
    "\n",
    "twodarray"
   ]
  },
  {
   "cell_type": "code",
   "execution_count": 4,
   "id": "7a6e8156",
   "metadata": {},
   "outputs": [
    {
     "name": "stdout",
     "output_type": "stream",
     "text": [
      "91 24 13 45 41 \n",
      "38 27 23 96 79 \n",
      "21 85 64 14 13 \n",
      "21 37 39 74 87 \n",
      "13 81 35 93 99 \n"
     ]
    }
   ],
   "source": [
    "# Traverse the array using a for loop\n",
    "\n",
    "def traverse(array):\n",
    "    for idx, row in enumerate(array): \n",
    "        for idx, ele in enumerate(row): \n",
    "            print(ele, end = \" \")\n",
    "        print()\n",
    "\n",
    "traverse(twodarray)"
   ]
  },
  {
   "cell_type": "code",
   "execution_count": 5,
   "id": "8902243e",
   "metadata": {},
   "outputs": [
    {
     "name": "stdout",
     "output_type": "stream",
     "text": [
      "[79, 63, 38, 67, 85] \n",
      "\n",
      "[45, 10, 30, 99, 64, 53] \n",
      "\n",
      "[45, 29, 37, 53, 23, 21] \n",
      "\n",
      "[[45 10 30 99 64 53]\n",
      " [79 91 24 13 45 41]\n",
      " [63 38 27 23 96 79]\n",
      " [38 21 85 64 14 13]\n",
      " [67 21 37 39 74 87]\n",
      " [85 13 81 35 93 99]]\n"
     ]
    },
    {
     "data": {
      "text/plain": [
       "array([[45, 10, 30, 99, 64, 53],\n",
       "       [79, 91, 24, 13, 45, 41],\n",
       "       [63, 38, 27, 23, 96, 79],\n",
       "       [38, 21, 85, 64, 14, 13],\n",
       "       [67, 21, 37, 39, 74, 87],\n",
       "       [85, 13, 81, 35, 93, 99],\n",
       "       [45, 29, 37, 53, 23, 21]])"
      ]
     },
     "execution_count": 5,
     "metadata": {},
     "output_type": "execute_result"
    }
   ],
   "source": [
    "# Two Dimensional array insertion\n",
    "column = [random.randint(10, 100) for _ in range(5)]\n",
    "print(column, '\\n')\n",
    "\n",
    "# insert a column\n",
    "twodarray = np.insert(twodarray, 0, column, axis=1)\n",
    "twodarray\n",
    "\n",
    "row = [random.randint(10, 100) for _ in range(6)]\n",
    "print(row, '\\n')\n",
    "\n",
    "# insert a row\n",
    "twodarray = np.insert(twodarray, 0, row, axis=0)\n",
    "twodarray\n",
    "\n",
    "# inserting elements at the end using the append() method\\\n",
    "row = [random.randint(10, 100) for _ in range(6)]\n",
    "print(row, '\\n')\n",
    "\n",
    "print(twodarray)\n",
    "\n",
    "twodarray = np.append(twodarray, [row], axis=0)\n",
    "twodarray"
   ]
  },
  {
   "cell_type": "code",
   "execution_count": null,
   "id": "56fea58b",
   "metadata": {},
   "outputs": [
    {
     "data": {
      "text/plain": [
       "array([[93, 99],\n",
       "       [23, 21]])"
      ]
     },
     "execution_count": 15,
     "metadata": {},
     "output_type": "execute_result"
    }
   ],
   "source": [
    "# Delete a row or column \n",
    "\n",
    "# delete a row, change axis to 1 to delete column\n",
    "twodarray = np.delete(twodarray, 0, axis=0)\n",
    "twodarray"
   ]
  }
 ],
 "metadata": {
  "kernelspec": {
   "display_name": "base",
   "language": "python",
   "name": "python3"
  },
  "language_info": {
   "codemirror_mode": {
    "name": "ipython",
    "version": 3
   },
   "file_extension": ".py",
   "mimetype": "text/x-python",
   "name": "python",
   "nbconvert_exporter": "python",
   "pygments_lexer": "ipython3",
   "version": "3.13.5"
  }
 },
 "nbformat": 4,
 "nbformat_minor": 5
}
