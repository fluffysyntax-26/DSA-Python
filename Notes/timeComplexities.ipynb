{
 "cells": [
  {
   "cell_type": "markdown",
   "metadata": {},
   "source": [
    "# Time Complexities"
   ]
  },
  {
   "cell_type": "markdown",
   "metadata": {},
   "source": [
    "### Constant time complexity"
   ]
  },
  {
   "cell_type": "code",
   "execution_count": null,
   "metadata": {},
   "outputs": [],
   "source": [
    "array = [1, 2, 3, 4, 5]\n",
    "print(array[0])"
   ]
  },
  {
   "cell_type": "markdown",
   "metadata": {},
   "source": [
    "### Linear time complexity"
   ]
  },
  {
   "cell_type": "code",
   "execution_count": null,
   "metadata": {},
   "outputs": [],
   "source": [
    "for element in array:\n",
    "     print(element)"
   ]
  },
  {
   "cell_type": "markdown",
   "metadata": {},
   "source": [
    "### Logarithmic time complexity"
   ]
  },
  {
   "cell_type": "code",
   "execution_count": null,
   "metadata": {},
   "outputs": [],
   "source": [
    "for index in range(0,len(array),3):\n",
    "     print(array[index])"
   ]
  },
  {
   "cell_type": "markdown",
   "metadata": {},
   "source": [
    "### Quadratic time complexity"
   ]
  },
  {
   "cell_type": "code",
   "execution_count": null,
   "metadata": {},
   "outputs": [],
   "source": [
    "for x in array:\n",
    "    for y in array:\n",
    "         print(x,y)"
   ]
  },
  {
   "cell_type": "markdown",
   "metadata": {},
   "source": [
    "### Exponential time complexity"
   ]
  },
  {
   "cell_type": "code",
   "execution_count": null,
   "metadata": {},
   "outputs": [],
   "source": [
    "def fibonacci(n):\n",
    "    if n <= 1:\n",
    "        return n\n",
    "    return fibonacci(n-1) + fibonacci(n-2)"
   ]
  },
  {
   "cell_type": "markdown",
   "metadata": {},
   "source": [
    "### Add vs Multiply"
   ]
  },
  {
   "cell_type": "code",
   "execution_count": null,
   "metadata": {},
   "outputs": [],
   "source": [
    "arrayA = [1,2,3,4,5,6,7,8,9]\n",
    "arrayB = [11,12,13,14,15,16,17,18,19] \n",
    "\n",
    "for a in arrayA:\n",
    "    print(a)\n",
    "\n",
    "for b in arrayB:\n",
    "    print(b)\n",
    "\n",
    "for a in arrayA:\n",
    "    for b in arrayB:\n",
    "        print(a,b)"
   ]
  },
  {
   "cell_type": "markdown",
   "metadata": {},
   "source": [
    "### Iterative algorithm - finding the biggest number in the array"
   ]
  },
  {
   "cell_type": "code",
   "execution_count": null,
   "metadata": {},
   "outputs": [],
   "source": [
    "sample1Array = [1,10,45,33,23,45,67,2,3,33,55,11,65,76,34,35,27,99]\n",
    "\n",
    "def findBiggestNumber(sampleArray):\n",
    "    biggestNumber = sampleArray[0]\n",
    "    for index in range(1,len(sampleArray)):\n",
    "        if sampleArray[index] > biggestNumber:\n",
    "            biggestNumber = sampleArray[index]\n",
    "    print(biggestNumber)\n",
    "\n",
    "findBiggestNumber(sample1Array)"
   ]
  },
  {
   "cell_type": "markdown",
   "metadata": {},
   "source": [
    "### Recursive algorithm - finding the biggest number in the array"
   ]
  },
  {
   "cell_type": "code",
   "execution_count": null,
   "metadata": {},
   "outputs": [],
   "source": [
    "def findMaxNumRec(sampleArray, n):\n",
    "    if n == 1:\n",
    "       return sampleArray[0]\n",
    "    return max(sampleArray[n-1],findMaxNumRec(sampleArray,n-1))\n",
    "\n",
    "print(findMaxNumRec(sample1Array,len(sample1Array)))"
   ]
  },
  {
   "cell_type": "markdown",
   "metadata": {},
   "source": [
    "### Recursive algorithm multiple calls"
   ]
  },
  {
   "cell_type": "code",
   "execution_count": null,
   "metadata": {},
   "outputs": [],
   "source": [
    "def f(n):\n",
    "    if n <= 1:\n",
    "        return 1\n",
    "    return f(n-1) + f(n-1)\n",
    "\n",
    "print(f(3))"
   ]
  },
  {
   "cell_type": "markdown",
   "metadata": {},
   "source": [
    "### Quiz Questions"
   ]
  },
  {
   "cell_type": "code",
   "execution_count": null,
   "metadata": {},
   "outputs": [],
   "source": [
    "def f1(n):\n",
    "    if n <= 0:\n",
    "        return 1\n",
    "    else:\n",
    "        return 1 + f1(n-1)\n",
    "\n",
    "\n",
    "def f2(n):\n",
    "    \n",
    "    if n <= 0:\n",
    "        return 1\n",
    "    else:\n",
    "        return 1 + f2(n-5)\n",
    "\n",
    "\n",
    "def f3(n):\n",
    "    if n <= 0:\n",
    "        return 1\n",
    "    else:\n",
    "        return 1 + f3(n/5)\n",
    "\n",
    "\n",
    "def f4(n,m,o):\n",
    "    if n<=0:\n",
    "        print(n,m,o)\n",
    "    else:\n",
    "        f4(n-1,m+1,o)\n",
    "        f4(n-1,m,o+1)\n",
    "\n",
    "def f5(n):\n",
    "    for i in range(0,n,2):\n",
    "        print(i)  \n",
    "    if n<=0:\n",
    "        return 1\n",
    "    else:\n",
    "        return 1 + f5(n-5)"
   ]
  }
 ],
 "metadata": {
  "kernelspec": {
   "display_name": "Python 3",
   "language": "python",
   "name": "python3"
  },
  "language_info": {
   "codemirror_mode": {
    "name": "ipython",
    "version": 3
   },
   "file_extension": ".py",
   "mimetype": "text/x-python",
   "name": "python",
   "nbconvert_exporter": "python",
   "pygments_lexer": "ipython3",
   "version": "3.10.12"
  }
 },
 "nbformat": 4,
 "nbformat_minor": 4
}